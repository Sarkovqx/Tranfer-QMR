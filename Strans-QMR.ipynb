{
 "cells": [
  {
   "cell_type": "code",
   "execution_count": 29,
   "id": "84895559",
   "metadata": {},
   "outputs": [],
   "source": [
    "import numpy as np\n",
    "import random\n",
    "import pandas as pd\n",
    "\n",
    "import matplotlib.pyplot as plt"
   ]
  },
  {
   "cell_type": "code",
   "execution_count": 30,
   "id": "52f28e42",
   "metadata": {},
   "outputs": [],
   "source": [
    "def process_Loss_2(beta,Y,Z,lambda_):\n",
    "    m,n,xx=Z.shape\n",
    "    sum_loss=0\n",
    "    for i in range(m):\n",
    "        loss=beta.T@Z[i]@beta-Y[i]\n",
    "        sum_loss=sum_loss+loss*loss\n",
    "    \n",
    "    \n",
    "    sum_loss=sum_loss+lambda_*process_beta1_2(beta,n,lambda_)\n",
    "    print(sum_loss)\n",
    "    \n",
    "    return sum_loss"
   ]
  },
  {
   "cell_type": "code",
   "execution_count": 31,
   "id": "b8fc1f10",
   "metadata": {},
   "outputs": [],
   "source": [
    "def process_beta2(beta):\n",
    "    \n",
    "    loss=beta.T@beta\n",
    "    loss=math.sqrt(loss)\n",
    "    \n",
    "    return loss"
   ]
  },
  {
   "cell_type": "code",
   "execution_count": 32,
   "id": "63f5c955",
   "metadata": {},
   "outputs": [],
   "source": [
    "def get_betaloss(w_gu,beta,P):\n",
    "    \n",
    "    loss=0\n",
    "    sum_loss=0\n",
    "    for i in range(P):\n",
    "        loss=(w_gu[i]-beta[i])\n",
    "        sum_loss=sum_loss+loss*loss\n",
    "    \n",
    "    sum_loss=sum_loss\n",
    "    print(sum_loss)\n",
    "    return sum_loss"
   ]
  },
  {
   "cell_type": "code",
   "execution_count": 33,
   "id": "df68a6c5",
   "metadata": {},
   "outputs": [],
   "source": [
    "def process_beta1_2(beta,p,lambda_):\n",
    "    sum_loss=0\n",
    "    for i in range(p):\n",
    "        loss=math.sqrt(abs(beta[i]))\n",
    "        sum_loss=sum_loss+loss\n",
    "    return sum_loss"
   ]
  },
  {
   "cell_type": "code",
   "execution_count": 34,
   "id": "22dfd198",
   "metadata": {},
   "outputs": [],
   "source": [
    "def process_Loss(beta,X,Y,Z,lambda_):\n",
    "    m,n=X.shape\n",
    "    sum_loss=0\n",
    "    for i in range(m):\n",
    "        loss=beta.T@Z[i]@beta+X[i]@beta-Y[i]\n",
    "        sum_loss=sum_loss+loss*loss\n",
    "    \n",
    "    \n",
    "    sum_loss=sum_loss+lambda_*process_beta1_2(beta,n,lambda_)\n",
    "    print(sum_loss)\n",
    "    \n",
    "    return sum_loss"
   ]
  },
  {
   "cell_type": "code",
   "execution_count": 35,
   "id": "cf81f5bd",
   "metadata": {},
   "outputs": [],
   "source": [
    "def process_Z(n,p):\n",
    "    \n",
    "    matrix_dim = (n, p, p)\n",
    "    Z=np.empty(matrix_dim)\n",
    "    \n",
    "    for i in range(n):\n",
    "        z=np.random.randn(p,1)\n",
    "        Z_i=z@z.T\n",
    "        Z[i]=Z_i\n",
    "    \n",
    "    return Z"
   ]
  },
  {
   "cell_type": "code",
   "execution_count": 36,
   "id": "46663392",
   "metadata": {},
   "outputs": [],
   "source": [
    "def process_beta(sparse,p):\n",
    "    \n",
    "    o2=np.zeros(p)\n",
    "    index=np.random.choice(p,size=sparse,replace=False,p=None)\n",
    "    \n",
    "    random_number=[]\n",
    "    for i in range (sparse):\n",
    "        random_number.append(random.choice([1, -1]))\n",
    "    random_number=np.array(random_number) \n",
    "    \n",
    "    o2[index]=random_number\n",
    "    \n",
    "    return o2,index"
   ]
  },
  {
   "cell_type": "code",
   "execution_count": 37,
   "id": "40d7a1d7",
   "metadata": {},
   "outputs": [],
   "source": [
    "def process_X(n,p):\n",
    "    \n",
    "    X=np.random.randn(n,p)\n",
    "    \n",
    "    \n",
    "    return X"
   ]
  },
  {
   "cell_type": "code",
   "execution_count": 38,
   "id": "d96b344a",
   "metadata": {},
   "outputs": [],
   "source": [
    "def process_Y(n,p,Z,X,beta):\n",
    "    \n",
    "    Random=np.random.normal(0,1,n)\n",
    "    \n",
    "    A_beta=(Z@beta+X)\n",
    "    matrix_dim = (n, 1)\n",
    "    Y=np.empty(matrix_dim)\n",
    "    \n",
    "    for i in range(n):\n",
    "        y_i=beta.T@Z[i]@beta+X[i]@beta+Random[i]\n",
    "        Y[i]=y_i\n",
    "    \n",
    "    return Y"
   ]
  },
  {
   "cell_type": "code",
   "execution_count": 39,
   "id": "ad75dad9",
   "metadata": {},
   "outputs": [],
   "source": [
    "def Generate_omega_k(beta,K,h):\n",
    "    p=len(beta)\n",
    "    w_k=np.empty((K,p))\n",
    "    for k in range(K):\n",
    "        random_number=[]\n",
    "        for i in range (p):\n",
    "            random_number.append(random.choice([1, -1]))\n",
    "        random_number=np.array(random_number)\n",
    "        w_k[k]=beta+(h/p)*1.0*random_number \n",
    "    return w_k"
   ]
  },
  {
   "cell_type": "code",
   "execution_count": 40,
   "id": "373199d1",
   "metadata": {},
   "outputs": [],
   "source": [
    "def Generate_omega_k_trans(beta,K,h,beta_indice):\n",
    "    p=len(beta)\n",
    "    s=len(beta_indice)\n",
    "    m=np.arange(0, p, 1)\n",
    "    \n",
    "    \n",
    "    \n",
    "    w_k=np.empty((K,p))\n",
    "    for k in range(K):\n",
    "        index=np.random.choice(np.delete(m,beta_indice,axis=0),size=10,replace=False,p=None)\n",
    "        random_number=[]\n",
    "        for i in range (p):\n",
    "            random_number.append(random.choice([1, -1]))\n",
    "        random_number=np.array(random_number)\n",
    "        w_k[k]=(2*h/p)*1.0*random_number\n",
    "        print(beta_indice)\n",
    "        for j in beta_indice:\n",
    "            w_k[k][j]=beta[j]+(2*h/p)*1.0*random_number[j]\n",
    "        print(index)\n",
    "        for l in index:\n",
    "            w_k[k][l]=random.choice([1, -1])+(2*h/p)*1.0*random_number[l]\n",
    "    return w_k"
   ]
  },
  {
   "cell_type": "code",
   "execution_count": 41,
   "id": "51d8a0de",
   "metadata": {},
   "outputs": [],
   "source": [
    "def pool_set(tr_k,ori_r):\n",
    "    pool_tr=tr_k\n",
    "    print(pool_tr.shape)\n",
    "    l_tr=ori_r\n",
    "    print(l_tr.shape)\n",
    "    s_t=np.append(pool_tr,l_tr,axis=0)\n",
    "    print(s_t.shape)\n",
    "    return s_t\n",
    "    "
   ]
  },
  {
   "cell_type": "code",
   "execution_count": 42,
   "id": "2a525888",
   "metadata": {},
   "outputs": [],
   "source": [
    "def Generate_k_XZY(n,p,w):\n",
    "    X=process_X(n,p)\n",
    "    Z=process_Z(n,p)\n",
    "    Y=process_Y(n,p,Z,X,w)\n",
    "    return X,Z,Y"
   ]
  },
  {
   "cell_type": "code",
   "execution_count": 43,
   "id": "58c5a88f",
   "metadata": {},
   "outputs": [],
   "source": [
    "def Generate_ori_XZY(n,p,beta):\n",
    "    X=process_X(n,p)\n",
    "    Z=process_Z(n,p)\n",
    "    Y=process_Y(n,p,Z,X,w)"
   ]
  },
  {
   "cell_type": "code",
   "execution_count": 44,
   "id": "dab6c2b2",
   "metadata": {},
   "outputs": [],
   "source": [
    "def train_split(X,Y,Z,n):\n",
    "    \n",
    "    x,p=X.shape\n",
    "    num_list = list(range(n*3))\n",
    "    random.shuffle(num_list)\n",
    "    loc=np.array(num_list)\n",
    "    iloc=np.array_split(loc,3)\n",
    "    tr_x=np.empty((3,n,p))\n",
    "    tr_y=np.empty((3,n,1))\n",
    "    tr_z=np.empty((3,n,p,p))\n",
    "    for i in range(3):\n",
    "        tr_x[i]=X[iloc[i]]\n",
    "        tr_y[i]=Y[iloc[i]]\n",
    "        tr_z[i]=Z[iloc[i]]\n",
    "\n",
    "    return tr_x,tr_y,tr_z"
   ]
  },
  {
   "cell_type": "code",
   "execution_count": 45,
   "id": "1c95c109",
   "metadata": {},
   "outputs": [],
   "source": [
    "def generate_source_k(beta,n,p,k):\n",
    "    num=n\n",
    "    sr_X=np.empty((k,num,p))\n",
    "    sr_Z=np.empty((k,num,p,p))\n",
    "    sr_Y=np.empty((k,num,1))\n",
    "    for i in range(k):\n",
    "        sr_X[i],sr_Z[i],sr_Y[i]=Generate_k_XZY(num,p,beta[i])\n",
    "    return sr_X,sr_Z,sr_Y"
   ]
  },
  {
   "cell_type": "code",
   "execution_count": 50,
   "id": "e340a74c",
   "metadata": {},
   "outputs": [],
   "source": [
    "from sklearn.datasets import fetch_california_housing\n",
    "from sklearn.datasets import load_iris \n",
    "from sklearn.model_selection import train_test_split\n",
    "from sklearn.preprocessing import StandardScaler\n",
    "from sklearn.metrics import mean_squared_error\n",
    "import numpy as np\n",
    "import math\n",
    "\n",
    "def process_features(X):\n",
    "    m, n = X.shape\n",
    "    X = np.c_[np.ones((m, 1)), X]\n",
    "    return X\n",
    "\n",
    "class l12_IHTA:  \n",
    "    def __init__(self, Lambda, maxIter=1000):\n",
    "        self.lambda_ = Lambda\n",
    "        self.maxIter = maxIter \n",
    "        \n",
    "    def getphi(self,x,u):\n",
    "        tem=pow(abs(x)/3.0,(-3.0/2))\n",
    "        o=self.lambda_*u/8.0*tem\n",
    "        return math.acos(o)\n",
    "        \n",
    "        \n",
    "    def Getf(self,x,alpha):\n",
    "        return 2/3*x*(1+math.cos(2/3*math.pi-2/3*self.getphi(x,alpha)))\n",
    "    \n",
    "        \n",
    "    def soft_threshold(self,t, B_u,n):\n",
    "            \n",
    "        for i in range(n):\n",
    "            \n",
    "            s_1=(self.lambda_*t)\n",
    "            s=pow(54,1/3)/4*pow(s_1,2/3)\n",
    "            if abs(B_u[i])>s:\n",
    "                B_u[i]=self.Getf(B_u[i],t)\n",
    "    \n",
    "            else :\n",
    "                B_u[i]=0\n",
    "                \n",
    "        \n",
    "        return B_u\n",
    "        \n",
    "    def fit(self, X, y,Z,alpha_):\n",
    "        \n",
    "        \n",
    "        alpha=alpha_\n",
    "        m,n = X.shape\n",
    "        w = np.zeros(n)\n",
    "        z = np.zeros(n)\n",
    "        a=1\n",
    "        for t in range(self.maxIter):\n",
    "            sum_=0\n",
    "            for i in range(m):\n",
    "                s_1=z.T@Z[i]@z+X[i].T@z-y[i]\n",
    "                s_2=Z[i]@z*2\n",
    "                s_3=s_2+X[i]\n",
    "                s_=s_1*s_3\n",
    "                sum_=sum_+s_*2\n",
    "            g=sum_/m\n",
    "            \n",
    "            r=z-alpha*g\n",
    "            sw = w  \n",
    "            \n",
    "            \n",
    "            w=self.soft_threshold(alpha, r,n)\n",
    "            p = a\n",
    "            \n",
    "            a = (1+math.sqrt(1+4*p*p))/2\n",
    "            z = w+(p-1)/a*(w-sw)\n",
    "            \n",
    "            w_loss=process_Loss(w,X,y,Z,self.lambda_)\n",
    "            \n",
    "        self.w=w\n",
    "        \n",
    "    def predict(self,X):\n",
    "        return X@(self.w)\n",
    "    \n",
    "    def get(self):\n",
    "        return self.w\n",
    "    "
   ]
  },
  {
   "cell_type": "code",
   "execution_count": 51,
   "id": "d656fa1e",
   "metadata": {},
   "outputs": [],
   "source": [
    "class l12_IHTAbiasgai:  \n",
    "    def __init__(self, Lambda, maxIter=1000):\n",
    "        self.lambda_ = Lambda\n",
    "        self.maxIter = maxIter \n",
    "        \n",
    "    def getphi(self,x,u):\n",
    "        tem=pow(abs(x)/3.0,(-3.0/2))\n",
    "        o=self.lambda_*u/8.0*tem\n",
    "        return math.acos(o)\n",
    "        \n",
    "        \n",
    "    def Getf(self,x,alpha):\n",
    "        return 2/3*x*(1+math.cos(2/3*math.pi-2/3*self.getphi(x,alpha)))\n",
    "    \n",
    "        \n",
    "    def soft_threshold(self,t, B_u,n):\n",
    "            \n",
    "        for i in range(n):\n",
    "            \n",
    "            s_1=(self.lambda_*t)\n",
    "            s=pow(54,1/3)/4*pow(s_1,2/3)\n",
    "            if abs(B_u[i])>s:\n",
    "                B_u[i]=self.Getf(B_u[i],t)\n",
    "    \n",
    "            else :\n",
    "                B_u[i]=0\n",
    "                \n",
    "        \n",
    "        return B_u\n",
    "        \n",
    "    def fit(self, X, y,Z,w_true,alpha_):\n",
    "        \n",
    "        alpha=alpha_\n",
    "        m,n = X.shape\n",
    "        w = w_true\n",
    "        z = w_true\n",
    "        a=1\n",
    "        for t in range(self.maxIter):\n",
    "            sum_=0\n",
    "            for i in range(m):\n",
    "                s_1=z.T@Z[i]@z+X[i].T@z-y[i]\n",
    "                s_2=Z[i]@z*2\n",
    "                s_3=s_2+X[i]\n",
    "                s_=s_1*s_3\n",
    "                sum_=sum_+s_*2\n",
    "            g=sum_/m\n",
    "            \n",
    "            r=z-alpha*g\n",
    "            sw = w  \n",
    "            #z=w-alpha*g\n",
    "            \n",
    "            w=self.soft_threshold(alpha, r,n)\n",
    "            p = a\n",
    "            \n",
    "            a = (1+math.sqrt(1+4*p*p))/2\n",
    "            z = w+(p-1)/a*(w-sw)\n",
    "            \n",
    "            w_loss=process_Loss(w,X,y,Z,self.lambda_)\n",
    "         \n",
    "        self.w=w\n",
    "        \n",
    "    def predict(self,X):\n",
    "        return X@(self.w)\n",
    "    \n",
    "    def get(self):\n",
    "        return self.w"
   ]
  },
  {
   "cell_type": "code",
   "execution_count": 52,
   "id": "f5c1473f",
   "metadata": {},
   "outputs": [],
   "source": [
    "def bias_train(X,Y,Z,w_true,Lambda_,alpha_):\n",
    "    \n",
    "    #model = l12_IHTAbias(Lambda=0.001, maxIter=16)\n",
    "    model = l12_IHTAbiasgai(Lambda=Lambda_, maxIter=300)\n",
    "    model.fit(X, Y,Z,w_true,alpha_)\n",
    "    sigma_true=model.get()\n",
    "    #w_t=w_true+sigma_true\n",
    "    w_t=sigma_true\n",
    "    return w_t"
   ]
  },
  {
   "cell_type": "code",
   "execution_count": 53,
   "id": "fd9d1ddd",
   "metadata": {},
   "outputs": [],
   "source": [
    "def get_biasloss(w_t,beta):\n",
    "    loss=0\n",
    "    sum_loss=0\n",
    "    for i in range(p):\n",
    "        loss=(w_t[i]-beta[i])\n",
    "        sum_loss=sum_loss+loss*loss\n",
    "    \n",
    "    sum_loss=sum_loss\n",
    "    print(sum_loss)"
   ]
  },
  {
   "cell_type": "code",
   "execution_count": 54,
   "id": "e77a6346",
   "metadata": {},
   "outputs": [
    {
     "name": "stdout",
     "output_type": "stream",
     "text": [
      "(300, 1)\n"
     ]
    }
   ],
   "source": [
    "n=100\n",
    "p=600\n",
    "\n",
    "sparse=10\n",
    "beta,indice=process_beta(sparse,p)\n",
    "X=process_X(n*3,p)\n",
    "Z=process_Z(n*3,p)\n",
    "Y=process_Y(n*3,p,Z,X,beta)\n",
    "print(Y.shape)\n"
   ]
  },
  {
   "cell_type": "code",
   "execution_count": 55,
   "id": "cef4b9ab",
   "metadata": {},
   "outputs": [],
   "source": [
    "def pool_train(X,Y,Z,num):\n",
    "    X_p=X\n",
    "    Y_p=Y\n",
    "    Z_p=Z\n",
    "    for i in range (num):\n",
    "        X_p=pool_set(Source_k_X[i],X_p)\n",
    "        Y_p=pool_set(Source_k_Y[i],Y_p)\n",
    "        Z_p=pool_set(Source_k_Z[i],Z_p)\n",
    "    return X_p,Y_p,Z_p"
   ]
  },
  {
   "cell_type": "code",
   "execution_count": 56,
   "id": "cc26b472",
   "metadata": {},
   "outputs": [],
   "source": [
    "h=10\n",
    "K=1\n",
    "w_k=Generate_omega_k(beta,K,h)\n",
    "Source_k_X,Source_k_Z,Source_k_Y=generate_source_k(w_k,50,p,K)"
   ]
  },
  {
   "cell_type": "code",
   "execution_count": 57,
   "id": "fc10d777",
   "metadata": {
    "scrolled": true
   },
   "outputs": [
    {
     "name": "stdout",
     "output_type": "stream",
     "text": [
      "[79769.12127758]\n",
      "[79763.41416387]\n",
      "[79755.6135701]\n",
      "[79745.55109752]\n",
      "[79732.99531148]\n",
      "[79717.64791127]\n",
      "[79699.13549096]\n",
      "[79676.99800918]\n",
      "[79650.67400707]\n",
      "[79619.48226136]\n",
      "[79579.6985871]\n",
      "[79530.04085281]\n",
      "[79469.16025459]\n",
      "[79395.31021076]\n",
      "[79300.49813968]\n",
      "[79171.98310745]\n",
      "[78999.11894448]\n",
      "[78758.67081377]\n",
      "[78426.27657444]\n",
      "[77944.52971089]\n",
      "[77178.43047542]\n",
      "[75830.9533416]\n",
      "[73072.07576421]\n",
      "[66589.77705743]\n",
      "[53951.29967956]\n",
      "[44731.70598804]\n",
      "[38188.22390449]\n",
      "[29894.43422826]\n",
      "[22680.96820602]\n",
      "[18585.65819863]\n",
      "[16107.62555876]\n",
      "[13274.93570006]\n",
      "[10459.09206259]\n",
      "[8658.90702294]\n",
      "[7613.82264597]\n",
      "[6683.86245877]\n",
      "[5734.29979702]\n",
      "[4851.90279793]\n",
      "[4114.93561409]\n",
      "[3560.49738962]\n",
      "[3200.13524973]\n",
      "[2968.28811951]\n",
      "[2760.15870529]\n",
      "[2540.40233166]\n",
      "[2319.77376433]\n",
      "[2105.53925512]\n",
      "[1910.03232668]\n",
      "[1737.2451271]\n",
      "[1595.99660372]\n",
      "[1485.63606542]\n",
      "[1401.51641008]\n",
      "[1328.51829036]\n",
      "[1260.78231221]\n",
      "[1190.87528669]\n",
      "[1121.09426074]\n",
      "[1049.49835743]\n",
      "[981.13354393]\n",
      "[923.45556174]\n",
      "[878.81321957]\n",
      "[846.04311667]\n",
      "[822.22070493]\n",
      "[803.09729085]\n",
      "[784.35186481]\n",
      "[764.00627297]\n",
      "[740.86527622]\n",
      "[714.64904528]\n",
      "[683.21908598]\n",
      "[652.26534374]\n",
      "[622.27257421]\n",
      "[597.17709195]\n",
      "[575.42054424]\n",
      "[558.61057515]\n",
      "[545.53268992]\n",
      "[539.20860785]\n",
      "[534.72849859]\n",
      "[530.21520691]\n",
      "[525.91745771]\n",
      "[524.18105025]\n",
      "[522.32248182]\n",
      "[517.56406054]\n",
      "[512.29656506]\n",
      "[505.58488706]\n",
      "[499.81900931]\n",
      "[495.98492767]\n",
      "[492.46604604]\n",
      "[489.6696347]\n",
      "[488.22227903]\n",
      "[486.1470968]\n",
      "[485.20541568]\n",
      "[486.42808665]\n",
      "[490.15676276]\n",
      "[493.07707573]\n",
      "[494.63287638]\n",
      "[494.35591197]\n",
      "[493.2690187]\n",
      "[490.50385312]\n",
      "[487.90212186]\n",
      "[485.47653842]\n",
      "[483.10071011]\n",
      "[481.1475786]\n",
      "[479.2152953]\n",
      "[480.64386871]\n",
      "[480.7045435]\n",
      "[480.31647066]\n",
      "[478.46545847]\n",
      "[475.97453945]\n",
      "[473.73751349]\n",
      "[472.52826812]\n",
      "[470.59920631]\n",
      "[470.49696178]\n",
      "[470.05122457]\n",
      "[469.46637899]\n",
      "[469.78181602]\n",
      "[472.67356991]\n",
      "[475.10385439]\n",
      "[476.33734002]\n",
      "[476.04389945]\n",
      "[475.24837895]\n",
      "[473.49573754]\n",
      "[472.70192515]\n",
      "[474.32553339]\n",
      "[475.09665202]\n",
      "[475.42092423]\n",
      "[475.09755986]\n",
      "[474.83569181]\n",
      "[474.53771964]\n",
      "[472.69167563]\n",
      "[471.10491832]\n",
      "[471.3915848]\n",
      "[474.60845128]\n",
      "[478.61114594]\n",
      "[484.30668538]\n",
      "[491.6763327]\n",
      "[497.19883813]\n",
      "[502.47840847]\n",
      "[507.71120176]\n",
      "[510.95913478]\n",
      "[513.8663652]\n",
      "[515.37793228]\n",
      "[517.14059914]\n",
      "[519.57092358]\n",
      "[522.22739856]\n",
      "[523.73128316]\n",
      "[523.85951472]\n",
      "[522.65376602]\n",
      "[520.20944071]\n",
      "[518.83695308]\n",
      "[517.80607614]\n",
      "[516.82204091]\n",
      "[515.58719384]\n",
      "[514.41024333]\n",
      "[513.59894597]\n",
      "[513.04198797]\n",
      "[512.48300681]\n",
      "[512.45141981]\n",
      "[513.27770676]\n",
      "[512.45679437]\n",
      "[511.14642044]\n",
      "[508.7951796]\n",
      "[505.3729184]\n",
      "[500.64832318]\n",
      "[495.5626014]\n",
      "[492.12125323]\n",
      "[490.52133462]\n",
      "[489.55716021]\n",
      "[488.62237334]\n",
      "[488.34839439]\n",
      "[488.35061815]\n",
      "[488.92142574]\n",
      "[489.6059941]\n",
      "[491.31535936]\n",
      "[493.79615852]\n",
      "[497.56334363]\n",
      "[500.28328552]\n",
      "[501.50027762]\n",
      "[502.3651486]\n",
      "[502.33502158]\n",
      "[501.0824384]\n",
      "[500.86675909]\n",
      "[500.18399036]\n",
      "[499.3347116]\n",
      "[499.71748854]\n",
      "[500.45463474]\n",
      "[500.72643725]\n",
      "[501.60715981]\n"
     ]
    },
    {
     "ename": "KeyboardInterrupt",
     "evalue": "",
     "output_type": "error",
     "traceback": [
      "\u001b[1;31m---------------------------------------------------------------------------\u001b[0m",
      "\u001b[1;31mKeyboardInterrupt\u001b[0m                         Traceback (most recent call last)",
      "Cell \u001b[1;32mIn[57], line 2\u001b[0m\n\u001b[0;32m      1\u001b[0m model \u001b[38;5;241m=\u001b[39m l12_IHTA(Lambda\u001b[38;5;241m=\u001b[39m\u001b[38;5;241m0.3\u001b[39m, maxIter\u001b[38;5;241m=\u001b[39m\u001b[38;5;241m300\u001b[39m)\n\u001b[1;32m----> 2\u001b[0m \u001b[43mmodel\u001b[49m\u001b[38;5;241;43m.\u001b[39;49m\u001b[43mfit\u001b[49m\u001b[43m(\u001b[49m\u001b[43mX\u001b[49m\u001b[43m,\u001b[49m\u001b[43m \u001b[49m\u001b[43mY\u001b[49m\u001b[43m,\u001b[49m\u001b[43mZ\u001b[49m\u001b[43m,\u001b[49m\u001b[38;5;241;43m1\u001b[39;49m\u001b[38;5;241;43m/\u001b[39;49m\u001b[38;5;241;43m2000\u001b[39;49m\u001b[43m)\u001b[49m\n\u001b[0;32m      3\u001b[0m w_ori1\u001b[38;5;241m=\u001b[39mmodel\u001b[38;5;241m.\u001b[39mget()\n",
      "Cell \u001b[1;32mIn[50], line 59\u001b[0m, in \u001b[0;36ml12_IHTA.fit\u001b[1;34m(self, X, y, Z, alpha_)\u001b[0m\n\u001b[0;32m     57\u001b[0m     s_3\u001b[38;5;241m=\u001b[39ms_2\u001b[38;5;241m+\u001b[39mX[i]\n\u001b[0;32m     58\u001b[0m     s_\u001b[38;5;241m=\u001b[39ms_1\u001b[38;5;241m*\u001b[39ms_3\n\u001b[1;32m---> 59\u001b[0m     sum_\u001b[38;5;241m=\u001b[39msum_\u001b[38;5;241m+\u001b[39ms_\u001b[38;5;241m*\u001b[39m\u001b[38;5;241m2\u001b[39m\n\u001b[0;32m     60\u001b[0m g\u001b[38;5;241m=\u001b[39msum_\u001b[38;5;241m/\u001b[39mm\n\u001b[0;32m     62\u001b[0m r\u001b[38;5;241m=\u001b[39mz\u001b[38;5;241m-\u001b[39malpha\u001b[38;5;241m*\u001b[39mg\n",
      "\u001b[1;31mKeyboardInterrupt\u001b[0m: "
     ]
    }
   ],
   "source": [
    "model = l12_IHTA(Lambda=0.3, maxIter=300)\n",
    "model.fit(X, Y,Z,1/2000)\n",
    "w_ori1=model.get()"
   ]
  },
  {
   "cell_type": "code",
   "execution_count": null,
   "id": "bdc0c5a4",
   "metadata": {},
   "outputs": [],
   "source": [
    "non_sum=np.count_nonzero(w_ori1)\n",
    "print(non_sum)\n",
    "indices = np.where(beta !=0)\n",
    "print(w_ori1[indices])"
   ]
  },
  {
   "cell_type": "code",
   "execution_count": null,
   "id": "c599ac8f",
   "metadata": {},
   "outputs": [],
   "source": [
    "get_betaloss(w_ori1,beta,700)"
   ]
  },
  {
   "cell_type": "code",
   "execution_count": null,
   "id": "a70062fa",
   "metadata": {},
   "outputs": [],
   "source": [
    "Train_X,Train_Y,Train_Z=train_split(X,Y,Z,100)\n",
    "x_num,y_num=Train_X[0].shape\n",
    "Ori_Train_X=np.empty((3,x_num*2,y_num))\n",
    "Trx1=np.append(Train_X[1],Train_X[2],axis=0)\n",
    "Ori_Train_X[0]=Trx1\n",
    "Trx2=np.append(Train_X[0],Train_X[1],axis=0)\n",
    "Ori_Train_X[1]=Trx2\n",
    "Trx3=np.append(Train_X[1],Train_X[2],axis=0)\n",
    "Ori_Train_X[2]=Trx3\n",
    "\n",
    "Ori_Train_Z=np.empty((3,x_num*2,y_num,y_num))\n",
    "Trz1=np.append(Train_Z[1],Train_Z[2],axis=0)\n",
    "Ori_Train_Z[0]=Trz1\n",
    "Trz2=np.append(Train_Z[0],Train_Z[2],axis=0)\n",
    "Ori_Train_Z[1]=Trz2\n",
    "Trz3=np.append(Train_Z[0],Train_Z[1],axis=0)\n",
    "Ori_Train_Z[2]=Trz3\n",
    "\n",
    "Ori_Train_Y=np.empty((3,x_num*2,1))\n",
    "Try1=np.append(Train_Y[1],Train_Y[2],axis=0)\n",
    "Ori_Train_Y[0]=Try1\n",
    "Try2=np.append(Train_Y[0],Train_Y[2],axis=0)\n",
    "Ori_Train_Y[1]=Try2\n",
    "Try3=np.append(Train_Y[0],Train_Y[1],axis=0)\n",
    "Ori_Train_Y[2]=Try3"
   ]
  },
  {
   "cell_type": "code",
   "execution_count": null,
   "id": "3709460d",
   "metadata": {},
   "outputs": [],
   "source": [
    "beta_indice=[]\n",
    "for i in range(len(beta)):\n",
    "    if beta[i] != 0:\n",
    "        beta_indice.append(i)\n",
    "beta_indice=np.array(beta_indice)"
   ]
  },
  {
   "cell_type": "code",
   "execution_count": null,
   "id": "e51dec94",
   "metadata": {},
   "outputs": [],
   "source": [
    "h=10\n",
    "K=1\n",
    "w_k1=Generate_omega_k(beta,K,h)\n",
    "Source_k_X,Source_k_Z,Source_k_Y=generate_source_k(w_k1,50,p,K)"
   ]
  },
  {
   "cell_type": "code",
   "execution_count": null,
   "id": "5f7406c3",
   "metadata": {},
   "outputs": [],
   "source": [
    "h=10\n",
    "K_c=10-K\n",
    "w_k2=Generate_omega_k_trans(beta,K_c,h,beta_indice)\n",
    "Source_k_X_2,Source_k_Z_2,Source_k_Y_2=generate_source_k(w_k2,50,p,K_c)\n"
   ]
  },
  {
   "cell_type": "code",
   "execution_count": null,
   "id": "0b5402af",
   "metadata": {},
   "outputs": [],
   "source": [
    "Source_k_X_pool=np.append(Source_k_X,Source_k_X_2,axis=0)\n",
    "Source_k_Y_pool=np.append(Source_k_Y,Source_k_Y_2,axis=0)\n",
    "Source_k_Z_pool=np.append(Source_k_Z,Source_k_Z_2,axis=0)"
   ]
  },
  {
   "cell_type": "code",
   "execution_count": null,
   "id": "626cea32",
   "metadata": {},
   "outputs": [],
   "source": [
    "print(Source_k_X_pool.shape)"
   ]
  },
  {
   "cell_type": "code",
   "execution_count": null,
   "id": "2bf7f371",
   "metadata": {},
   "outputs": [],
   "source": [
    "\n",
    "plt.plot(beta)"
   ]
  },
  {
   "cell_type": "code",
   "execution_count": null,
   "id": "cce86efd",
   "metadata": {},
   "outputs": [],
   "source": [
    "def trans_target(Ori_Train_X,Ori_Train_Y,Ori_Train_Z):\n",
    "    Loss_target=np.empty((3,1))\n",
    "    for i in range (3):\n",
    "        model = l12_IHTA(Lambda=0.15, maxIter=300)\n",
    "        model.fit(Ori_Train_X[i],Ori_Train_Y[i],Ori_Train_Z[i],1/5000)\n",
    "        w_true=model.get()\n",
    "        Loss_target[i]=process_Loss(w_true,Train_X[i],Train_Y[i],Train_Z[i],0.15)\n",
    "    return Loss_target,w_true"
   ]
  },
  {
   "cell_type": "code",
   "execution_count": null,
   "id": "9eddddb2",
   "metadata": {},
   "outputs": [],
   "source": [
    "Loss_target,w=trans_target(Ori_Train_X,Ori_Train_Y,Ori_Train_Z)"
   ]
  },
  {
   "cell_type": "code",
   "execution_count": null,
   "id": "8edb21e7",
   "metadata": {},
   "outputs": [],
   "source": [
    "plt.plot(w)\n",
    "plt.plot(beta)"
   ]
  },
  {
   "cell_type": "code",
   "execution_count": null,
   "id": "81dd1773",
   "metadata": {},
   "outputs": [],
   "source": [
    "def trans_source(Ori_Train_X,Ori_Train_Y,Ori_Train_Z):\n",
    "    Loss_source=np.empty((3,10))\n",
    "    w=np.empty((3,10,700))\n",
    "    for i in range (3):\n",
    "        for j in range(10):\n",
    "            poolx_i_j=np.append(Ori_Train_X[i],Source_k_X_pool[j],axis=0)\n",
    "            pooly_i_j=np.append(Ori_Train_Y[i],Source_k_Y_pool[j],axis=0)\n",
    "            poolz_i_j=np.append(Ori_Train_Z[i],Source_k_Z_pool[j],axis=0)\n",
    "            model = l12_IHTA(Lambda=0.15, maxIter=250)\n",
    "            model.fit(poolx_i_j,pooly_i_j,poolz_i_j,1/5000)\n",
    "            w_true=model.get()\n",
    "            Loss_source[i][j]=process_Loss(w_true,Train_X[i],Train_Y[i],Train_Z[i],0.15)\n",
    "            w[i][j]=w_true\n",
    "    return Loss_source,w"
   ]
  },
  {
   "cell_type": "code",
   "execution_count": null,
   "id": "e9e21e66",
   "metadata": {},
   "outputs": [],
   "source": [
    "Loss_source,w_ll=trans_source(Ori_Train_X,Ori_Train_Y,Ori_Train_Z)"
   ]
  },
  {
   "cell_type": "code",
   "execution_count": null,
   "id": "2b2bf7da",
   "metadata": {
    "scrolled": true
   },
   "outputs": [],
   "source": [
    "Loss_K_source=np.zeros(10)\n",
    "print(Loss_K_source)"
   ]
  },
  {
   "cell_type": "code",
   "execution_count": null,
   "id": "4d46d441",
   "metadata": {},
   "outputs": [],
   "source": [
    "\n",
    "for i in range (3):\n",
    "    for j in range(10):\n",
    "        Loss_K_source[j]=Loss_K_source[j]+Loss_source[i][j]\n",
    "print(Loss_K_source)        \n",
    "Loss_K_source=Loss_K_source/3\n",
    "print(Loss_K_source)"
   ]
  },
  {
   "cell_type": "code",
   "execution_count": null,
   "id": "0bf04e59",
   "metadata": {},
   "outputs": [],
   "source": [
    "Loss_0=np.sum(Loss_target)/3\n",
    "print(Loss_0)\n"
   ]
  },
  {
   "cell_type": "code",
   "execution_count": null,
   "id": "39f8b846",
   "metadata": {},
   "outputs": [],
   "source": [
    "A_indice=[]\n",
    "for i in range(10):\n",
    "    if(Loss_K_source[i]-Loss_0<=1000):\n",
    "        A_indice.append(i)\n",
    "print(A_indice)"
   ]
  },
  {
   "cell_type": "code",
   "execution_count": null,
   "id": "69010cc4",
   "metadata": {},
   "outputs": [],
   "source": [
    "def get_trans_A(X,Y,Z,A_indice):\n",
    "    X_dai=X\n",
    "    Y_dai=Y\n",
    "    Z_dai=Z\n",
    "    for i in A_indice:\n",
    "        X_dai=np.append(X_dai,Source_k_X_pool[i],axis=0)\n",
    "        Y_dai=np.append(Y_dai,Source_k_Y_pool[i],axis=0)\n",
    "        Z_dai=np.append(Z_dai,Source_k_Z_pool[i],axis=0)\n",
    "    return X_dai,Y_dai,Z_dai"
   ]
  },
  {
   "cell_type": "code",
   "execution_count": null,
   "id": "5a7e2acb",
   "metadata": {},
   "outputs": [],
   "source": [
    "Trans_X,Trans_Y,Trans_Z=get_trans_A(X,Y,Z,A_indice)\n"
   ]
  },
  {
   "cell_type": "code",
   "execution_count": null,
   "id": "8edc4ddf",
   "metadata": {},
   "outputs": [],
   "source": [
    "print(Trans_X.shape)"
   ]
  },
  {
   "cell_type": "code",
   "execution_count": null,
   "id": "8763c1bd",
   "metadata": {},
   "outputs": [],
   "source": [
    "#strans\n",
    "model = l12_IHTA(Lambda=0.15, maxIter=500)\n",
    "model.fit(Trans_X, Trans_Y,Trans_Z,1/8000)\n",
    "w_A_strans=model.get()"
   ]
  },
  {
   "cell_type": "code",
   "execution_count": null,
   "id": "2f608e2d",
   "metadata": {},
   "outputs": [],
   "source": [
    "plt.plot(w_A_strans)\n",
    "plt.plot(beta)"
   ]
  },
  {
   "cell_type": "code",
   "execution_count": null,
   "id": "6decb60a",
   "metadata": {},
   "outputs": [],
   "source": [
    "w_strans_A_2=bias_train(X,Y,Z,w_A_strans,1,1/8000)"
   ]
  },
  {
   "cell_type": "code",
   "execution_count": null,
   "id": "b3599efb",
   "metadata": {
    "scrolled": true
   },
   "outputs": [],
   "source": [
    "loss=0\n",
    "sum_loss=0\n",
    "for i in range(700):\n",
    "    loss=(w_strans_A_2[i]-beta[i])\n",
    "    sum_loss=sum_loss+loss*loss\n",
    "    \n",
    "sum_loss=sum_loss\n",
    "print(sum_loss)"
   ]
  },
  {
   "cell_type": "code",
   "execution_count": null,
   "id": "3816e352",
   "metadata": {
    "scrolled": true
   },
   "outputs": [],
   "source": [
    "plt.plot(w_A_strans)\n",
    "plt.plot(beta)"
   ]
  },
  {
   "cell_type": "code",
   "execution_count": null,
   "id": "3f7c1760",
   "metadata": {},
   "outputs": [],
   "source": [
    "non_sum=np.count_nonzero(w_strans_A_2)\n",
    "print(non_sum)\n",
    "indices = np.where(beta !=0  )\n",
    "print(w_strans_A_2[indices])"
   ]
  },
  {
   "cell_type": "code",
   "execution_count": null,
   "id": "b4202c14",
   "metadata": {},
   "outputs": [],
   "source": [
    "def pool_train(X,Y,Z,num):\n",
    "    X_p=X\n",
    "    Y_p=Y\n",
    "    Z_p=Z\n",
    "    for i in range (num):\n",
    "        X_p=pool_set(Source_k_X[i],X_p)\n",
    "        Y_p=pool_set(Source_k_Y[i],Y_p)\n",
    "        Z_p=pool_set(Source_k_Z[i],Z_p)\n",
    "    return X_p,Y_p,Z_p"
   ]
  },
  {
   "cell_type": "code",
   "execution_count": null,
   "id": "5de11c6d",
   "metadata": {
    "scrolled": false
   },
   "outputs": [],
   "source": [
    "X_p,Y_p,Z_p=pool_train(X,Y,Z,K)"
   ]
  },
  {
   "cell_type": "code",
   "execution_count": null,
   "id": "fffde32c",
   "metadata": {
    "scrolled": true
   },
   "outputs": [],
   "source": [
    "model = l12_IHTA(Lambda=0.07, maxIter=350)\n",
    "model.fit(X_p, Y_p,Z_p,1/4000)\n",
    "w_A_strans_h=model.get()"
   ]
  },
  {
   "cell_type": "code",
   "execution_count": null,
   "id": "2154bb92",
   "metadata": {},
   "outputs": [],
   "source": [
    "get_betaloss(w_A_strans_h,beta,700)"
   ]
  },
  {
   "cell_type": "code",
   "execution_count": null,
   "id": "7c0309ee",
   "metadata": {},
   "outputs": [],
   "source": [
    "w_strans_A_2_h=bias_train(X,Y,Z,w_A_strans_h,3,1/6000)"
   ]
  },
  {
   "cell_type": "code",
   "execution_count": null,
   "id": "f37e583f",
   "metadata": {
    "scrolled": false
   },
   "outputs": [],
   "source": [
    "get_betaloss(w_strans_A_2_h,beta,700)"
   ]
  },
  {
   "cell_type": "code",
   "execution_count": null,
   "id": "0a41eafb",
   "metadata": {
    "scrolled": true
   },
   "outputs": [],
   "source": [
    "non_sum=np.count_nonzero(w_strans_A_2_h)\n",
    "print(non_sum)\n",
    "indices = np.where(beta !=0)\n",
    "print(w_strans_A_2_h[indices])"
   ]
  }
 ],
 "metadata": {
  "kernelspec": {
   "display_name": "Python 3 (ipykernel)",
   "language": "python",
   "name": "python3"
  },
  "language_info": {
   "codemirror_mode": {
    "name": "ipython",
    "version": 3
   },
   "file_extension": ".py",
   "mimetype": "text/x-python",
   "name": "python",
   "nbconvert_exporter": "python",
   "pygments_lexer": "ipython3",
   "version": "3.10.9"
  }
 },
 "nbformat": 4,
 "nbformat_minor": 5
}
